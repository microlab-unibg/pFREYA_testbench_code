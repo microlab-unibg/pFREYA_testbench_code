{
 "cells": [
  {
   "cell_type": "code",
   "execution_count": 37,
   "metadata": {},
   "outputs": [
    {
     "name": "stdout",
     "output_type": "stream",
     "text": [
      "('TCPIP0::169.254.1.214::inst0::INSTR', 'GPIB0::9::INSTR', 'GPIB0::23::INSTR')\n"
     ]
    }
   ],
   "source": [
    "import serial\n",
    "import serial.tools.list_ports\n",
    "import pyvisa\n",
    "import matplotlib.pyplot as plt\n",
    "import TeledyneLeCroyPy\n",
    "import numpy as np\n",
    "import pandas as pd\n",
    "import scipy as sp\n",
    "import time\n",
    "from datetime import datetime\n",
    "import matplotlib.colors as mcolors\n",
    "\n",
    "rm = pyvisa.ResourceManager()\n",
    "print(rm.list_resources())\n",
    "\n",
    "serial.tools.list_ports.comports(include_links=True)\n",
    "\n",
    "# to deal with already initialised oscilloscope\n",
    "lecroy = None"
   ]
  },
  {
   "cell_type": "code",
   "execution_count": 46,
   "metadata": {},
   "outputs": [
    {
     "name": "stdout",
     "output_type": "stream",
     "text": [
      "Agilent Technologies,B2961A,MY52350174,1.0.1236.9609\n",
      "\n",
      "\n",
      "Low terminal: FLO\n",
      "Auto output off: 1\n",
      "Protection: 1\n",
      "Resistance mode: FIX\n",
      "Shunt resistance : +2.00000000E+009\n",
      "Output current mode: FIX\n",
      "Output current level: -1.00000000E-006\n",
      "Output voltage range: +2.00000000E+000\n",
      "Output status: 1\n",
      "\t\n"
     ]
    }
   ],
   "source": [
    "ps = rm.open_resource('GPIB0::23::INSTR')\n",
    "print(ps.query('*IDN?'))\n",
    "\n",
    "ps.write(':OUTP:LOW FLO')\n",
    "ps.write(':OUTP:OFF:AUTO ON')\n",
    "ps.write(':OUTP:PROT ON')\n",
    "ps.write(':OUTP:RES:MODE FIX')\n",
    "ps.write(':OUTP:RES:SHUN DEF')\n",
    "ps.write(':SOUR:FUNC:MODE CURR')\n",
    "ps.write(':SOUR:CURR:MODE FIX')\n",
    "ps.write(':SOUR:CURR:LEV -1e-6')\n",
    "ps.write(':DISP:ENAB OFF')\n",
    "ps.write(':DISP:TEXT:DATA \"pFREYA16\"')\n",
    "ps.write(':DISP:TEXT:STAT ON')\n",
    "ps.write(':OUTP:STAT ON')\n",
    "\n",
    "print(f'''\n",
    "Low terminal: {ps.query(':OUTP:LOW?')[:-1]}\n",
    "Auto output off: {ps.query(':OUTP:OFF:AUTO?')[:-1]}\n",
    "Protection: {ps.query(':OUTP:PROT?')[:-1]}\n",
    "Resistance mode: {ps.query(':OUTP:RES:MODE?')[:-1]}\n",
    "Shunt resistance : {ps.query(':OUTP:RES:SHUN?')[:-1]}\n",
    "Output current mode: {ps.query(':SOUR:CURR:MODE?')[:-1]}\n",
    "Output current level: {ps.query(':SOUR:CURR:LEV?')[:-1]}\n",
    "Output voltage range: {ps.query(':SOUR:VOLT:RANG?')[:-1]}\n",
    "Output status: {ps.query(':OUTP:STAT?')[:-1]}\n",
    "\t''')"
   ]
  },
  {
   "cell_type": "code",
   "execution_count": 39,
   "metadata": {},
   "outputs": [
    {
     "name": "stdout",
     "output_type": "stream",
     "text": [
      "HEWLETT-PACKARD,HP81104A,DE38700607,REV 01.10.00\n",
      "\n",
      "\n",
      "Number of pattern positions: +1000\n",
      "Source of the trigger: IMM\n",
      "Period of the pulse: +1.5000E-08\n",
      "Duty cycle of the pulse: +5.0000E+01\n",
      "Rise time of the pulse: +3.0000E-09\n",
      "Type of pulse: PATTERN\n",
      "CH1 data: 20 1's, 980 0's\n",
      "CH2 data: as the clock\n",
      "STRB data: 20 1's, 980 0's\n",
      "Type of the pulse: NRZ\n",
      "Internal impedance (source): +5.0000E+01\n",
      "External impedance (termination): +1.0000E+02\n",
      "High level: +1.2000E+00\n",
      "Low level: +0.0000E+00\n",
      "Output 1 status: 1\n",
      "Output 2 status: 1\n",
      "\t\n"
     ]
    }
   ],
   "source": [
    "pg = rm.open_resource('GPIB0::9::INSTR')\n",
    "print(pg.query('*IDN?'))\n",
    "\n",
    "csa_reset_n_pattern = ''.join([f'{i}' for i in [1]*20 + [0]*980])\n",
    "csa_reset_n_length = str(len(csa_reset_n_pattern))\n",
    "csa_reset_n_length_length = str(len(str(len(csa_reset_n_pattern))))\n",
    "\n",
    "pg.write('*RST')\n",
    "pg.write(f':TRIG:COUN {csa_reset_n_length}')\n",
    "pg.write(f':TRIG:SOUR INT')\n",
    "pg.write(f':PULS:PER 15NS')\n",
    "pg.write(f':PULS:DCYC1 50PCT')\n",
    "pg.write(f':PULS:DCYC2 50PCT')\n",
    "pg.write(f':PULS:TRAN1 3NS')\n",
    "pg.write(f':PULS:TRAN2 3NS')\n",
    "pg.write(':DIG:STIM:PATTERN:STAT ON')\n",
    "pg.write(f':DIG:STIM:PATTERN:DATA1 #{csa_reset_n_length_length}{csa_reset_n_length}{csa_reset_n_pattern}')\n",
    "pg.write(f':DIG:STIM:PATTERN:PRES2 2,{csa_reset_n_length}')\n",
    "pg.write(f':DIG:STIM:PATTERN:DATA3 #{csa_reset_n_length_length}{csa_reset_n_length}{csa_reset_n_pattern}')\n",
    "pg.write(f':DIG:STIM:SIGN1:FORM NRZ')\n",
    "pg.write(f':DIG:STIM:SIGN2:FORM NRZ')\n",
    "pg.write(':OUTP1:IMP:INT 50OHM')\n",
    "pg.write(':OUTP1:IMP:EXT 100OHM')\n",
    "pg.write(':OUTP2:IMP:INT 50OHM')\n",
    "pg.write(':OUTP2:IMP:EXT 100OHM')\n",
    "pg.write(':VOLT1:LEV:HIGH 1.2V')\n",
    "pg.write(':VOLT1:LEV:LOW 0V')\n",
    "pg.write(':VOLT2:LEV:HIGH 1.2V')\n",
    "pg.write(':VOLT2:LEV:LOW 0V')\n",
    "pg.write(':OUTP1 ON')\n",
    "pg.write(':OUTP2 ON')\n",
    "\n",
    "print(f'''\n",
    "Number of pattern positions: {pg.query(':TRIG:COUN?')[:-1]}\n",
    "Source of the trigger: {pg.query(':TRIG:SOUR?')[:-1]}\n",
    "Period of the pulse: {pg.query(':PULS:PER?')[:-1]}\n",
    "Duty cycle of the pulse: {pg.query(':PULS:DCYC1?')[:-1]}\n",
    "Rise time of the pulse: {pg.query(':PULS:TRAN1?')[:-1]}\n",
    "Type of pulse: PATTERN\n",
    "CH1 data: 20 1's, 980 0's\n",
    "CH2 data: as the clock\n",
    "STRB data: 20 1's, 980 0's\n",
    "Type of the pulse: {pg.query(':DIG:STIM:SIGN1:FORM?')[:-1]}\n",
    "Internal impedance (source): {pg.query(':OUTP1:IMP:INT?')[:-1]}\n",
    "External impedance (termination): {pg.query(':OUTP1:IMP:EXT?')[:-1]}\n",
    "High level: {pg.query(':VOLT1:LEV:HIGH?')[:-1]}\n",
    "Low level: {pg.query(':VOLT1:LEV:LOW?')[:-1]}\n",
    "Output 1 status: {pg.query(':OUTP1?')[:-1]}\n",
    "Output 2 status: {pg.query(':OUTP2?')[:-1]}\n",
    "\t''')"
   ]
  },
  {
   "cell_type": "code",
   "execution_count": 40,
   "metadata": {},
   "outputs": [
    {
     "name": "stdout",
     "output_type": "stream",
     "text": [
      "LECROY,WP804HD,LCRY4608N02718,10.0.0\n"
     ]
    }
   ],
   "source": [
    "if lecroy is None:\n",
    "\tlecroy = TeledyneLeCroyPy.LeCroyWaveRunner('TCPIP0::169.254.1.214::inst0::INSTR')\n",
    "print(lecroy.idn)"
   ]
  },
  {
   "cell_type": "code",
   "execution_count": 55,
   "metadata": {},
   "outputs": [
    {
     "name": "stdout",
     "output_type": "stream",
     "text": [
      "current range: -7e-08, -1e-06\n",
      "Injection integral (min and max): -8.4e-15, -1.1999999999999997e-13\n",
      "photon energy @ 5 keV: 38.27715355805243, 546.8164794007489\n",
      "Config bits: 1101011\n"
     ]
    }
   ],
   "source": [
    "# for each step set a current level, take some data\n",
    "# next plot everything and calculate statistics\n",
    "\n",
    "# The integral in the range is given by Iinj_int and should be converted to PH_EQ by means\n",
    "#  of the following eq: PH_EQ = Iinj_int*2.28e16 keV/C / 9 keV = Iinj_int * 2.53e15\n",
    "\n",
    "# The general integral for a trap(t-t_i,t_r,t_r,T), where t_i is the arrival time, t_r is the rise time and its the same as the fall time, T is the period\n",
    "#  of pulse + rest (50% duty cycle) is equal to T/2-t_r\n",
    "# Therefore Iinj_int = (T/2-t_r)*Iin = Qin\n",
    "\n",
    "# With 0 A there is actually a negative injection (yay!)\n",
    "# \tEvaluating the offset (@ 9keV, sim) at 0 is 6.16 eq ph or 2.43fA. With a current of 0.02 uA it goes away. In real life it goes with 0.06 uA.\n",
    "# With max it is not perfect\n",
    "# \tdoing the same as above, one gets a correction factor of around 105.8fA/103.2fA\n",
    "T = 30e-9 # s\n",
    "t_r = 3e-9 # s\n",
    "N_pulses = 10 # adimensional\n",
    "conv_kev_c = 3.65/1000 * 1/1.602e-19 # Energy in silicon for e-/h * no of electrons per coulomb [keV/e-] * [e-/C]\n",
    "config_bits = [1,1,0,1,0,1,1]\n",
    "csa_bits = config_bits[0:2]\n",
    "shap_bits = config_bits[3:5]\n",
    "channel = 2 # 1 csa 2 shap\n",
    "match csa_bits:\n",
    "\tcase [0,1]:\n",
    "\t\tphoton_energy = 9 # keV\n",
    "\t\toffset_charge = 8.5e-15 # C *tentative\n",
    "\t\tmin_current = .07e-6 # A\n",
    "\t\tmax_current = 1.8e-6 # A\n",
    "\t\tcorr_fact = 1 #105.8/103.2\n",
    "\tcase [0,0]:\n",
    "\t\tphoton_energy = 25 # keV\n",
    "\t\toffset_charge = 8.5e-15 # C *tentative\n",
    "\t\tmin_current = .07e-6 # A\n",
    "\t\tmax_current = 4.3e-6 #3.5e-6 # A\n",
    "\t\tcorr_fact = 1 #105.8/103.2\n",
    "\tcase [1,0]:\n",
    "\t\tphoton_energy = 18 # keV\n",
    "\t\toffset_charge = 8.5e-15 # C *tentative\n",
    "\t\tmin_current = .07e-6 # A\n",
    "\t\tmax_current = 3.5e-6 # A\n",
    "\t\tcorr_fact = 1 #105.8/103.2\n",
    "\tcase [1,1]:\n",
    "\t\tphoton_energy = 5 # keV\n",
    "\t\toffset_charge = 0 #8.5e-15 # C *tentative\n",
    "\t\tmin_current = .07e-6 # A\n",
    "\t\tmax_current = 1e-6 # A\n",
    "\t\tcorr_fact = 1 #105.8/103.2\n",
    "match shap_bits:\n",
    "\tcase [1,0]: peaking_time = 432 # ns\n",
    "\tcase [0,0]: peaking_time = 234 # ns\n",
    "\tcase [0,1]: peaking_time = 332 # ns\n",
    "\tcase [1,1]: peaking_time = 535 # ns\n",
    "\n",
    "current_lev = -1 * np.linspace(min_current,max_current,20)\n",
    "iinj_int = current_lev * (T/2-t_r) * N_pulses + offset_charge\n",
    "eq_ph = -1 * iinj_int * corr_fact * conv_kev_c / photon_energy\n",
    "config_bits_str = ''.join([str(x) for x in config_bits])\n",
    "print(f'current range: {current_lev[0]}, {current_lev[-1]}')\n",
    "print(f'Injection integral (min and max): {iinj_int[0]}, {iinj_int[-1]}')\n",
    "print(f'photon energy @ {photon_energy} keV: {eq_ph[0]}, {eq_ph[-1]}')\n",
    "print(f'Config bits: {config_bits_str}')"
   ]
  },
  {
   "cell_type": "code",
   "execution_count": 29,
   "metadata": {},
   "outputs": [
    {
     "name": "stdout",
     "output_type": "stream",
     "text": [
      "-11E-3\n"
     ]
    }
   ],
   "source": [
    "print(lecroy.query('C2:CRVA? HREL').split(',')[2])"
   ]
  },
  {
   "cell_type": "code",
   "execution_count": 56,
   "metadata": {},
   "outputs": [],
   "source": [
    "channel_name = 'csa' if channel == 1 else 'shap'\n",
    "gain = 5.6/2 if channel == 1 else 5.6/2\n",
    "N_samples = 100\n",
    "\n",
    "df = pd.DataFrame()\n",
    "df['Current level step'] = np.arange(len(current_lev))\n",
    "df['Current level (A)'] = current_lev\n",
    "df['Equivalent photons'] = eq_ph\n",
    "df['Voltage output average (V)'] = None\n",
    "df['Voltage output std (V)'] = None\n",
    "for i, cl in enumerate(current_lev):\n",
    "\t# set current level\n",
    "\tps.write(f':SOUR:CURR:LEV {cl}')\n",
    "\ttime.sleep(0.005)\n",
    "\tdata = []\n",
    "\t# N sample to average and extract std from\n",
    "\tfor _ in range(N_samples):\n",
    "\t\tdata.append(float(lecroy.query(f'C{channel}:CRVA? HREL').split(',')[2]))\n",
    "\t\ttime.sleep(0.03)\n",
    "\t\n",
    "\tdf.loc[i,'Voltage output average (V)'] = np.average(data)/gain\n",
    "\tdf.loc[i,'Voltage output std (V)'] = np.std(data)/gain\n",
    "\n",
    "datetime_str = datetime.strftime(datetime.now(), '%d%m%y_%H%M%S')\n",
    "if channel == 1:\n",
    "\tdf['Voltage output average (V)'] = -1*df['Voltage output average (V)']\n",
    "\n",
    "df.to_csv(f'G:/My Drive/PHD/FALCON/measures/transcharacteristics/{channel_name}/{channel_name}_{config_bits_str}_nominal_{datetime_str}.tsv', '\\t')"
   ]
  },
  {
   "cell_type": "code",
   "execution_count": 20,
   "metadata": {},
   "outputs": [],
   "source": [
    "df = pd.read_csv('G:/My Drive/PHD/FALCON/measures/transcharacteristics/shap/shap_0101011_nominal_050424_190634.tsv',sep='\\t')\n",
    "datetime_str = datetime.strftime(datetime.now(), '%d%m%y_%H%M%S')\n",
    "channel_name = 'shap'"
   ]
  },
  {
   "cell_type": "code",
   "execution_count": 57,
   "metadata": {},
   "outputs": [
    {
     "name": "stdout",
     "output_type": "stream",
     "text": [
      "LinregressResult(slope=0.002949518026546556, intercept=0.0008774479591837081, rvalue=0.997330724804272, pvalue=6.470077973737836e-22, stderr=5.0897596031154896e-05, intercept_stderr=0.0076210904074819775)\n"
     ]
    },
    {
     "data": {
      "image/png": "[encoded data removed]",
      "text/plain": [
       "<Figure size 500x400 with 1 Axes>"
      ]
     },
     "metadata": {},
     "output_type": "display_data"
    }
   ],
   "source": [
    "fig, ax = plt.subplots()\n",
    "fig.set_figheight(4)\n",
    "fig.set_figwidth(5)\n",
    "ax.errorbar(\n",
    "\tnp.linspace(0,256,20),\n",
    "\tdf['Voltage output average (V)'],\n",
    "\txerr=np.tile(1, df.shape[0]),\n",
    "\tyerr=df['Voltage output std (V)'],\n",
    "\tfmt='s', markersize=1, capsize=3, linestyle='-')\n",
    "ax.set_xlabel('Equivalent input photons [#]')\n",
    "ax.set_ylabel(f'{channel_name.upper()} output voltage [V]')\n",
    "\n",
    "from scipy import stats\n",
    "eq_ph_s = 70\n",
    "eq_ph_e = 200\n",
    "ln = stats.linregress(\n",
    "\t#df[df['Equivalent photons'].between(eq_ph[0],eq_ph[-1])]['Equivalent photons'].astype(float),\n",
    "\tnp.linspace(0,256,20),\n",
    "\tdf[df['Equivalent photons'].between(eq_ph[0],eq_ph[-1])]['Voltage output average (V)'].astype(float))\n",
    "linear_output = ln.intercept + ln.slope*eq_ph\n",
    "max_diff = np.max(df['Voltage output average (V)'] - linear_output)\n",
    "inl = 100 * np.abs(max_diff) / ln.slope / 256\n",
    "print(ln)\n",
    "ax.table([\n",
    "\t['$\\\\gamma$ energy (keV)',f'{photon_energy}'],\n",
    "\t['Slope (mV/#$\\\\gamma$)',f'{np.round(ln.slope*10**3,3)}'],\n",
    "\t['INL (%)',f'{np.round(inl,2)}'],\n",
    "\t['R$^2$',np.round(ln.rvalue,3)],\n",
    "\t], colWidths=[.3,.2], loc='lower right')\n",
    "plt.savefig(f'G:/My Drive/PHD/FALCON/measures/transcharacteristics/{channel_name}/{channel_name}_{config_bits_str}_nominal_{datetime_str}.pdf',dpi=300)"
   ]
  }
 ],
 "metadata": {
  "kernelspec": {
   "display_name": "Python 3",
   "language": "python",
   "name": "python3"
  },
  "language_info": {
   "codemirror_mode": {
    "name": "ipython",
    "version": 3
   },
   "file_extension": ".py",
   "mimetype": "text/x-python",
   "name": "python",
   "nbconvert_exporter": "python",
   "pygments_lexer": "ipython3",
   "version": "3.12.0"
  }
 },
 "nbformat": 4,
 "nbformat_minor": 2
}
